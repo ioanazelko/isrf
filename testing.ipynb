{
 "cells": [
  {
   "cell_type": "code",
   "execution_count": 1,
   "metadata": {},
   "outputs": [],
   "source": [
    "#%matplotlib widget\n",
    "\n",
    "import healpy as hp\n",
    "import numpy as np\n",
    "import matplotlib.pyplot as plt\n",
    "\n",
    "import isrf.circle as circle\n",
    "import isrf.plot_utils  as plot_utils\n",
    "import isrf.utils as utils\n",
    "\n",
    "import isrf.tests.test_example as test_example\n",
    "import isrf.testing_utils as testing_utils\n",
    "import isrf.ray as ray\n"
   ]
  },
  {
   "cell_type": "markdown",
   "metadata": {},
   "source": [
    "### Functions for linear parameterization\n"
   ]
  },
  {
   "cell_type": "code",
   "execution_count": null,
   "metadata": {},
   "outputs": [],
   "source": []
  },
  {
   "cell_type": "code",
   "execution_count": null,
   "metadata": {},
   "outputs": [],
   "source": [
    "\n"
   ]
  },
  {
   "cell_type": "markdown",
   "metadata": {},
   "source": [
    "### Functions for the circles and arches implementation"
   ]
  },
  {
   "cell_type": "code",
   "execution_count": 3,
   "metadata": {},
   "outputs": [],
   "source": [
    "\n",
    "# test_example.test_circle_implementation()\n",
    "# test_example.test_arches_implementation()\n"
   ]
  },
  {
   "cell_type": "code",
   "execution_count": 4,
   "metadata": {},
   "outputs": [
    {
     "ename": "SyntaxError",
     "evalue": "invalid syntax (4233359694.py, line 1)",
     "output_type": "error",
     "traceback": [
      "\u001b[0;36m  Cell \u001b[0;32mIn[4], line 1\u001b[0;36m\u001b[0m\n\u001b[0;31m    https://healpy.readthedocs.io/en/latest/generated/healpy.query_polygon.html\u001b[0m\n\u001b[0m          ^\u001b[0m\n\u001b[0;31mSyntaxError\u001b[0m\u001b[0;31m:\u001b[0m invalid syntax\n"
     ]
    }
   ],
   "source": [
    "https://healpy.readthedocs.io/en/latest/generated/healpy.query_polygon.html"
   ]
  },
  {
   "cell_type": "code",
   "execution_count": 5,
   "metadata": {},
   "outputs": [
    {
     "data": {
      "text/plain": [
       "array([0, 3, 4, 5, 8])"
      ]
     },
     "execution_count": 5,
     "metadata": {},
     "output_type": "execute_result"
    }
   ],
   "source": [
    "vertices = np.array([[1,0,0],[1,1.1,0],[1,0,1.1]])\n",
    "\n",
    "hp.query_polygon(nside=1,vertices=vertices, inclusive=True)"
   ]
  },
  {
   "cell_type": "code",
   "execution_count": 6,
   "metadata": {},
   "outputs": [
    {
     "ename": "IndexError",
     "evalue": "too many indices for array: array is 1-dimensional, but 2 were indexed",
     "output_type": "error",
     "traceback": [
      "\u001b[0;31m---------------------------------------------------------------------------\u001b[0m",
      "\u001b[0;31mIndexError\u001b[0m                                Traceback (most recent call last)",
      "Cell \u001b[0;32mIn[6], line 20\u001b[0m\n\u001b[1;32m     17\u001b[0m isrf_pos \u001b[38;5;241m=\u001b[39m utils\u001b[38;5;241m.\u001b[39mgalactic_to_cartesian(isrf_point_l,isrf_point_b,isrf_point_r)\n\u001b[1;32m     19\u001b[0m \u001b[38;5;66;03m# Calculate the direction from the star to the ISRF point\u001b[39;00m\n\u001b[0;32m---> 20\u001b[0m direction, direction_abs, star_dot_direction \u001b[38;5;241m=\u001b[39m \u001b[43mray\u001b[49m\u001b[38;5;241;43m.\u001b[39;49m\u001b[43mdirection_star_to_ISRF_point\u001b[49m\u001b[43m(\u001b[49m\u001b[43misrf_pos\u001b[49m\u001b[43m,\u001b[49m\u001b[43m \u001b[49m\u001b[43mstar_pos\u001b[49m\u001b[43m)\u001b[49m\n\u001b[1;32m     23\u001b[0m find_crossing_positions(star_r,star_dot_direction,direction_abs,\u001b[38;5;241m0.5\u001b[39m)\n",
      "File \u001b[0;32m~/Dropbox/aa_research_projects/ISRF/isrf/isrf/ray.py:19\u001b[0m, in \u001b[0;36mdirection_star_to_ISRF_point\u001b[0;34m(isrf_pos, star_pos)\u001b[0m\n\u001b[1;32m     15\u001b[0m star_pos \u001b[38;5;241m=\u001b[39m np\u001b[38;5;241m.\u001b[39masarray(star_pos)  \u001b[38;5;66;03m# Shape: (N, 3)\u001b[39;00m\n\u001b[1;32m     17\u001b[0m \u001b[38;5;66;03m#direction = isrf_pos - star_pos  \u001b[39;00m\n\u001b[1;32m     18\u001b[0m \u001b[38;5;66;03m# All pairwise directions (broadcasting)\u001b[39;00m\n\u001b[0;32m---> 19\u001b[0m direction \u001b[38;5;241m=\u001b[39m \u001b[43misrf_pos\u001b[49m\u001b[43m[\u001b[49m\u001b[43m:\u001b[49m\u001b[43m,\u001b[49m\u001b[43m \u001b[49m\u001b[43mnp\u001b[49m\u001b[38;5;241;43m.\u001b[39;49m\u001b[43mnewaxis\u001b[49m\u001b[43m,\u001b[49m\u001b[43m \u001b[49m\u001b[43m:\u001b[49m\u001b[43m]\u001b[49m \u001b[38;5;241m-\u001b[39m star_pos[np\u001b[38;5;241m.\u001b[39mnewaxis, :, :] \u001b[38;5;66;03m# Result shape: (M, N, 3) - M ISRF positions × N stars × 3 coordinates\u001b[39;00m\n\u001b[1;32m     20\u001b[0m \u001b[38;5;28;01mreturn\u001b[39;00m direction\n",
      "\u001b[0;31mIndexError\u001b[0m: too many indices for array: array is 1-dimensional, but 2 were indexed"
     ]
    }
   ],
   "source": [
    "\n",
    "nside = 16  # Choose your resolution\n",
    "pixel_id = 42  # Example pixel index\n",
    "\n",
    "reddening_distance_slices = np.array([0.0, 0.5, 1.0, 1.5, 2.0, 2.5, 3.0, 3.5, 4.0, 4.5, 5.0])\n",
    "\n",
    "isrf_point_l = 0\n",
    "isrf_point_b = 0\n",
    "isrf_point_r = 1\n",
    "\n",
    "star_l = 1\n",
    "star_b = 1\n",
    "star_r = 1\n",
    "\n",
    "\n",
    "\n",
    "star_pos = utils.galactic_to_cartesian(star_l,star_b,star_r)\n",
    "isrf_pos = utils.galactic_to_cartesian(isrf_point_l,isrf_point_b,isrf_point_r)\n",
    "\n",
    "# Calculate the direction from the star to the ISRF point\n",
    "direction, direction_abs, star_dot_direction = ray.direction_star_to_ISRF_point(isrf_pos, star_pos)\n",
    "\n",
    "\n",
    "find_crossing_positions(star_r,star_dot_direction,direction_abs,0.5)"
   ]
  },
  {
   "cell_type": "code",
   "execution_count": null,
   "metadata": {},
   "outputs": [
    {
     "ename": "NameError",
     "evalue": "name 'direction' is not defined",
     "output_type": "error",
     "traceback": [
      "\u001b[0;31m---------------------------------------------------------------------------\u001b[0m",
      "\u001b[0;31mNameError\u001b[0m                                 Traceback (most recent call last)",
      "Cell \u001b[0;32mIn[7], line 58\u001b[0m\n\u001b[1;32m     54\u001b[0m     points \u001b[38;5;241m=\u001b[39m sample_ray_of_light(star_pos, direction, t_min\u001b[38;5;241m=\u001b[39m\u001b[38;5;241m0\u001b[39m, t_max\u001b[38;5;241m=\u001b[39m\u001b[38;5;241m1\u001b[39m, num_points\u001b[38;5;241m=\u001b[39mnum_points)\n\u001b[1;32m     56\u001b[0m     \u001b[38;5;28;01mreturn\u001b[39;00m points\n\u001b[0;32m---> 58\u001b[0m get_pixel_indices_from_ray(star_pos, \u001b[43mdirection\u001b[49m, t_min\u001b[38;5;241m=\u001b[39m\u001b[38;5;241m0\u001b[39m, t_max\u001b[38;5;241m=\u001b[39m\u001b[38;5;241m1\u001b[39m, num_points \u001b[38;5;241m=\u001b[39m\u001b[38;5;241m100\u001b[39m, nside\u001b[38;5;241m=\u001b[39mnside)\n",
      "\u001b[0;31mNameError\u001b[0m: name 'direction' is not defined"
     ]
    }
   ],
   "source": [
    "### #Making a function that samples the pixel index of the ray along the ray of light\n",
    "\n",
    "#ang2pix is really efficient and can evaluate a lot of points using multiple threads, so you could try passing a million points at a time and see if performance is enough for your application\n",
    "\n",
    "\n",
    "\n",
    "get_pixel_indices_from_ray(star_pos, direction, t_min=0, t_max=1, num_points =100, nside=nside)"
   ]
  },
  {
   "cell_type": "code",
   "execution_count": null,
   "metadata": {},
   "outputs": [],
   "source": []
  },
  {
   "cell_type": "code",
   "execution_count": 8,
   "metadata": {},
   "outputs": [
    {
     "ename": "NameError",
     "evalue": "name 'd' is not defined",
     "output_type": "error",
     "traceback": [
      "\u001b[0;31m---------------------------------------------------------------------------\u001b[0m",
      "\u001b[0;31mNameError\u001b[0m                                 Traceback (most recent call last)",
      "Cell \u001b[0;32mIn[8], line 1\u001b[0m\n\u001b[0;32m----> 1\u001b[0m \u001b[43md\u001b[49m\u001b[38;5;66;03m# Example usage:\u001b[39;00m\n\u001b[1;32m      2\u001b[0m x, y, z \u001b[38;5;241m=\u001b[39m \u001b[38;5;241m8000\u001b[39m, \u001b[38;5;241m8000\u001b[39m, \u001b[38;5;241m10000\u001b[39m  \u001b[38;5;66;03m# Coordinates in parsecs\u001b[39;00m\n\u001b[1;32m      3\u001b[0m l, b, d \u001b[38;5;241m=\u001b[39m utils\u001b[38;5;241m.\u001b[39mcartesian_to_galactic(x, y, z)\n",
      "\u001b[0;31mNameError\u001b[0m: name 'd' is not defined"
     ]
    }
   ],
   "source": [
    "d# Example usage:\n",
    "x, y, z = 8000, 8000, 10000  # Coordinates in parsecs\n",
    "l, b, d = utils.cartesian_to_galactic(x, y, z)\n",
    "\n",
    "print(f\"Galactic Longitude (l): {l:.2f} degrees\")\n",
    "print(f\"Galactic Latitude (b): {b:.2f} degrees\")\n",
    "print(f\"Distance: {d:.2f} pc\")\n"
   ]
  },
  {
   "cell_type": "code",
   "execution_count": 9,
   "metadata": {},
   "outputs": [
    {
     "data": {
      "text/plain": [
       "array([0.99969541, 0.01744975, 0.01745241])"
      ]
     },
     "execution_count": 9,
     "metadata": {},
     "output_type": "execute_result"
    }
   ],
   "source": [
    "star_pos"
   ]
  },
  {
   "cell_type": "code",
   "execution_count": 10,
   "metadata": {},
   "outputs": [
    {
     "ename": "NameError",
     "evalue": "name 'ray_linear_parameterization' is not defined",
     "output_type": "error",
     "traceback": [
      "\u001b[0;31m---------------------------------------------------------------------------\u001b[0m",
      "\u001b[0;31mNameError\u001b[0m                                 Traceback (most recent call last)",
      "Cell \u001b[0;32mIn[10], line 1\u001b[0m\n\u001b[0;32m----> 1\u001b[0m \u001b[43mray_linear_parameterization\u001b[49m(star_pos, direction,\u001b[38;5;241m0\u001b[39m)\n",
      "\u001b[0;31mNameError\u001b[0m: name 'ray_linear_parameterization' is not defined"
     ]
    }
   ],
   "source": [
    "ray_linear_parameterization(star_pos, direction,0)"
   ]
  },
  {
   "cell_type": "code",
   "execution_count": null,
   "metadata": {},
   "outputs": [],
   "source": [
    "\n"
   ]
  },
  {
   "cell_type": "code",
   "execution_count": null,
   "metadata": {},
   "outputs": [],
   "source": []
  },
  {
   "cell_type": "code",
   "execution_count": null,
   "metadata": {},
   "outputs": [],
   "source": []
  },
  {
   "cell_type": "code",
   "execution_count": null,
   "metadata": {},
   "outputs": [],
   "source": []
  }
 ],
 "metadata": {
  "kernelspec": {
   "display_name": "cc",
   "language": "python",
   "name": "python3"
  },
  "language_info": {
   "codemirror_mode": {
    "name": "ipython",
    "version": 3
   },
   "file_extension": ".py",
   "mimetype": "text/x-python",
   "name": "python",
   "nbconvert_exporter": "python",
   "pygments_lexer": "ipython3",
   "version": "3.12.1"
  }
 },
 "nbformat": 4,
 "nbformat_minor": 2
}

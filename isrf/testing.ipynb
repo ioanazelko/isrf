{
 "cells": [
  {
   "cell_type": "code",
   "execution_count": 3,
   "metadata": {},
   "outputs": [
    {
     "data": {
      "text/plain": [
       "<Figure size 640x480 with 0 Axes>"
      ]
     },
     "metadata": {},
     "output_type": "display_data"
    }
   ],
   "source": [
    "\n",
    "\n",
    "import healpy as hp\n",
    "import numpy as np\n",
    "import matplotlib.pyplot as plt\n",
    "\n",
    "\n",
    "import circle\n",
    "import utils\n",
    "\n",
    "\n",
    "N_side = 16  # Choose your resolution\n",
    "pixel_id = 42  # Example pixel index\n",
    "\n",
    "# Get the boundaries of the pixel\n",
    "boundaries = hp.boundaries(N_side, pixel_id, step=1)\n",
    "theta, phi = hp.vec2ang(np.transpose(boundaries))\n",
    "\n",
    "# Convert to degrees for plotting\n",
    "theta_deg = np.degrees(theta)\n",
    "phi_deg = np.degrees(phi)\n",
    "\n",
    "# Plot\n",
    "# plt.figure()\n",
    "hp.visufunc.projscatter(theta, phi, lonlat=False, c='red')  # Plot edges\n",
    "hp.visufunc.projtext(np.mean(theta), np.mean(phi), str(pixel_id), lonlat=False, color='blue')  # Center\n",
    "plt.show()\n"
   ]
  },
  {
   "cell_type": "code",
   "execution_count": 4,
   "metadata": {},
   "outputs": [],
   "source": [
    "reddening_distance_slices = np.array([0.0, 0.5, 1.0, 1.5, 2.0, 2.5, 3.0, 3.5, 4.0, 4.5, 5.0])"
   ]
  },
  {
   "cell_type": "code",
   "execution_count": 5,
   "metadata": {},
   "outputs": [],
   "source": [
    "def make_position_vector_from_spherical(l,b,r):\n",
    "    x = r * np.cos(b) * np.cos(l)\n",
    "    y = r * np.cos(b) * np.sin(l)\n",
    "    z = r * np.sin(b)\n",
    "    return np.array([x,y,z])\n",
    "\n"
   ]
  },
  {
   "cell_type": "code",
   "execution_count": 6,
   "metadata": {},
   "outputs": [],
   "source": [
    "#### check that the ray is not in the plane defined by any of the healpix edges\n"
   ]
  },
  {
   "cell_type": "code",
   "execution_count": 7,
   "metadata": {},
   "outputs": [
    {
     "ename": "SyntaxError",
     "evalue": "incomplete input (1204857459.py, line 3)",
     "output_type": "error",
     "traceback": [
      "\u001b[0;36m  Cell \u001b[0;32mIn[7], line 3\u001b[0;36m\u001b[0m\n\u001b[0;31m    \u001b[0m\n\u001b[0m    ^\u001b[0m\n\u001b[0;31mSyntaxError\u001b[0m\u001b[0;31m:\u001b[0m incomplete input\n"
     ]
    }
   ],
   "source": [
    "class class_isrf():\n",
    "    def __init__(self):\n",
    "        "
   ]
  },
  {
   "cell_type": "code",
   "execution_count": 8,
   "metadata": {},
   "outputs": [],
   "source": [
    "isrf_point_l = 0\n",
    "isrf_point_b = 0\n",
    "isrf_point_r = 0\n",
    "\n",
    "star_l = 1\n",
    "star_b = 1\n",
    "star_r = 1\n"
   ]
  },
  {
   "cell_type": "code",
   "execution_count": 9,
   "metadata": {},
   "outputs": [],
   "source": [
    "\n",
    "\n",
    "star_pos = make_position_vector_from_spherical(star_l,star_b,star_r)\n",
    "isrf_pos = make_position_vector_from_spherical(isrf_point_l,isrf_point_b,isrf_point_r)\n",
    "\n",
    "direction = isrf_pos - star_pos\n",
    "direction_abs = np.dot(direction,direction)**0.5\n",
    "star_dot_direction = np.dot(star_pos,direction)\n"
   ]
  },
  {
   "cell_type": "code",
   "execution_count": 10,
   "metadata": {},
   "outputs": [],
   "source": [
    "def ray_linear_parameterization(star_pos,direction, t):\n",
    "    return star_pos + t*direction\n",
    "\n",
    "\n",
    "def p(star_pos,direction, t):\n",
    "    x0,y0,z0 = star_pos\n",
    "    a,b,c = direction\n",
    "    p = ((x0 + t*a)**2 + (y0 + t*b)**2 + (z0 + t*c)**2)**0.5  \n",
    "    return p\n",
    "\n",
    "def find_crossing_positions(star_r,star_dot_direction,direction_abs,d):\n",
    "    a = direction_abs**2\n",
    "    b = 2*star_dot_direction\n",
    "    c = star_r**2-d**2\n",
    "    t1 = (-b + (b**2 - 4*a*c)**0.5)/(2*a)\n",
    "    t2 = (-b - (b**2 - 4*a*c)**0.5)/(2*a)\n",
    "    return t1,t2\n",
    "\n",
    "\n",
    "\n",
    "\n",
    "#x = (-b +- (b^2-4ac)^0.5)/2a"
   ]
  },
  {
   "cell_type": "code",
   "execution_count": 11,
   "metadata": {},
   "outputs": [
    {
     "data": {
      "text/plain": [
       "(1.5, 0.5)"
      ]
     },
     "execution_count": 11,
     "metadata": {},
     "output_type": "execute_result"
    }
   ],
   "source": [
    "find_crossing_positions(star_r,star_dot_direction,direction_abs,0.5)"
   ]
  },
  {
   "cell_type": "code",
   "execution_count": 12,
   "metadata": {},
   "outputs": [],
   "source": [
    "# Example galactic coordinates (longitude, latitude, radius)\n",
    "coordinates = [\n",
    "    (-77.016, -12.033, 1),   # Center of the galaxy\n",
    "    (110.43, -7.78, 1) # Some point in space\n",
    "]\n",
    "\n",
    "# Convert to Cartesian coordinates for plotting\n",
    "points = np.array([utils.galactic_to_cartesian(*coord) for coord in coordinates])"
   ]
  },
  {
   "cell_type": "code",
   "execution_count": 13,
   "metadata": {},
   "outputs": [],
   "source": [
    "center = np.array([1,0,0])\n",
    "p1 = points[0]+center\n",
    "p2 = points[1]+center\n",
    "\n",
    "### Calculate the radius of the center of the circle\n",
    "r =  np.linalg.norm(p1 - center)\n",
    "### Calculate the normal vector of the plane defined by the circle\n",
    "n = np.cross(p1 - center,p2 - center)\n",
    "### Normalize the normal vector\n",
    "n0 = n/np.linalg.norm(n)\n",
    "### Calculate the other perpendicular vectors\n",
    "q1 = p1\n",
    "q2 = center + np.cross(n0,p1 - center)\n",
    "\n",
    "\n"
   ]
  },
  {
   "cell_type": "code",
   "execution_count": 75,
   "metadata": {},
   "outputs": [],
   "source": [
    "\n",
    "\n",
    "def vectorized_circle_properties(p1_array, p2_array, center):\n",
    "    # Calculate radii (shape: (N,))\n",
    "    radius = np.linalg.norm(p1_array - center, axis=1)\n",
    "\n",
    "    # Calculate normal vectors (shape: (N, 3))\n",
    "    n = np.cross(p1_array - center, p2_array - center)\n",
    "\n",
    "    # Normalize the normal vectors (shape: (N, 3))\n",
    "    n_norm = np.linalg.norm(n, axis=1, keepdims=True)\n",
    "    n0 = n / n_norm\n",
    "\n",
    "    # Normalize q1 vectors (shape: (N, 3))\n",
    "    q1_norm = np.linalg.norm(p1_array-center, axis=1, keepdims=True)\n",
    "    q1 = (p1_array -center)/ q1_norm\n",
    "\n",
    "    # Calculate q2 vectors (shape: (N, 3))\n",
    "    q2 = np.cross(n0, q1)\n",
    "\n",
    "    return radius, n0, q1, q2\n",
    "\n",
    "\n",
    "\n",
    "def parameterize_circle(center, radius, q1, q2, theta):\n",
    "\n",
    "\n",
    "    # THIS IS ERRORING, I NEED TO FIX THIS\n",
    "  \n",
    "    \"\"\"\n",
    "    Parameterize circles with given radii and centers, using 3D basis vectors spanning the circle plane.\n",
    "    \n",
    "    Parameters:\n",
    "        center: array-like shape (3,) or (N,3), center(s) of the circle(s)\n",
    "        radius: float or array-like shape (N,), radius/radii of the circle(s)\n",
    "        q1: array-like shape (3,) or (N,3), normalized basis vector(s), perpendicular to circle normal\n",
    "        q2: array-like shape (3,) or (N,3), normalized basis vector(s), perpendicular to circle normal and q1\n",
    "        theta: float, numpy array shape (M,), or numpy array shape (N, M), angle(s) in radians to parameterize the circle\n",
    "\n",
    "    Returns:\n",
    "        np.array shape of (3,), (M,3) or (N,M,3) : Array of points on each circle parameterized by theta\n",
    "    \"\"\"\n",
    "\n",
    "    #This ensures consistent handling of inputs (single 3D points or arrays of 3D points) without separate cases, \n",
    "    center = np.atleast_2d(center)\n",
    "    q1 = np.atleast_2d(q1)\n",
    "    q2 = np.atleast_2d(q2)\n",
    "\n",
    "    radius = np.atleast_1d(radius)\n",
    "    theta = np.atleast_2d(theta)\n",
    "\n",
    "    # Ensure proper broadcasting\n",
    "    center = center[:, np.newaxis, :]  # Shape (N,1,3)\n",
    "    q1 = q1[:, np.newaxis, :]          # Shape (N,1,3)\n",
    "    q2 = q2[:, np.newaxis, :]          # Shape (N,1,3)\n",
    "    radius = radius[:, np.newaxis, np.newaxis]  # Shape (N,1,1)\n",
    "    theta = theta[:, :, np.newaxis]    # Shape (1,M,1)\n",
    "   \n",
    "    # Parameterize circle(s)\n",
    "    points = center + radius * (np.cos(theta)*q1 +\n",
    "                                np.sin(theta)*q2)\n",
    "\n",
    "    # print(points)\n",
    "\n",
    "    \n",
    "    print(points.shape)\n",
    "    return points.squeeze()  #if only one set of inputs (N=1) is provided, .squeeze() simplifies the output dimensions accordingly.\n",
    "\n",
    "\n",
    "def parameterize_circle_old(center, radius, q1,q2,theta):\n",
    "    \"\"\"\n",
    "    parameterize a circle with a given radius and center, using the 3 basis vectors spanning the circle plane and the normal of the plane\n",
    "    center: np.array([x,y,z]) center of the circle\n",
    "    radius: float, radius of the circle\n",
    "    input: \n",
    "        q1: np.array([x,y,z]) normalized basis vector, perpendicular to n0\n",
    "        q2: np.array([x,y,z]) normalized basis vector, perpendicular to n0 and q1\n",
    "        theta: float, or numpy array, angle in radians \n",
    "    output: np.array([x,y,z]) point on the circle, or array of points on the circle\n",
    "    \"\"\"\n",
    "\n",
    "    x = center[0] + radius*(np.cos(theta) *q1[0] + np.sin(theta)*q2[0] )\n",
    "    y = center[1] + radius*(np.cos(theta) *q1[1] + np.sin(theta)*q2[1] )\n",
    "    z = center[2] + radius*(np.cos(theta) *q1[2] + np.sin(theta)*q2[2] )\n",
    "    return np.array([x,y,z])\n",
    "\n",
    "\n",
    "\n",
    "def parameterize_with_normal_vectors(p1,p2,theta,center = np.array([0,0,0])):\n",
    "    \"\"\"\n",
    "\n",
    "    \"\"\"\n",
    "    ### Calculate the radius of the center of the circle\n",
    "    radius =  np.linalg.norm(p1 - center)\n",
    "    ### Calculate the normal vector of the plane defined by the circle\n",
    "    n = np.cross(p1 - center,p2 - center)\n",
    "    ### Normalize the normal vector\n",
    "    n0 = n/np.linalg.norm(n)\n",
    "    n = np.cross(p1 - center,p2 - center)\n",
    "    n0 = n/np.linalg.norm(n)\n",
    "    q1 = (p1-center)/np.linalg.norm(p1-center)\n",
    "    q2 = np.cross(n0,q1)\n",
    "\n",
    "    circle_samples = parameterize_circle(center,radius, q1,q2,theta) \n",
    "    print(circle_samples)\n",
    "    #print(parameterize_circle_old(center,radius, q1,q2,theta))\n",
    "    return circle_samples\n",
    "    # return parameterize_circle(center,radius, q1,q2,theta)\n",
    "\n"
   ]
  },
  {
   "cell_type": "code",
   "execution_count": 76,
   "metadata": {},
   "outputs": [
    {
     "name": "stdout",
     "output_type": "stream",
     "text": [
      "(1, 10)\n",
      "(1, 10, 3)\n",
      "[[ 1.21974223 -0.9530223  -0.20847503]\n",
      " [ 0.91730995 -0.65941697 -0.74721591]\n",
      " [ 0.65356926 -0.05726311 -0.93632616]\n",
      " [ 0.55192737  0.5716848  -0.687319  ]\n",
      " [ 0.65994363  0.93313504 -0.11670763]\n",
      " [ 0.92707605  0.85796102  0.50851253]\n",
      " [ 1.2283304   0.3813375   0.89579403]\n",
      " [ 1.42274641 -0.27371807  0.86392354]\n",
      " [ 1.41935468 -0.80069791  0.42781364]\n",
      " [ 1.21974223 -0.9530223  -0.20847503]]\n"
     ]
    }
   ],
   "source": [
    "theta = np.linspace(0,2*np.pi,10)\n",
    "#circle = parameterize_circle_unnorm(center,q1,q2,theta)\n",
    "\n",
    "circle_samples = parameterize_with_normal_vectors(p1, p2, theta, center = center)"
   ]
  },
  {
   "cell_type": "code",
   "execution_count": 77,
   "metadata": {},
   "outputs": [
    {
     "name": "stdout",
     "output_type": "stream",
     "text": [
      "(1, 1)\n",
      "(1, 1, 3)\n",
      "[ 1.21974223 -0.9530223  -0.20847503]\n"
     ]
    }
   ],
   "source": [
    "theta = 0.\n",
    "#circle = parameterize_circle_unnorm(center,q1,q2,theta)\n",
    "\n",
    "circle_samples = parameterize_with_normal_vectors(p1, p2, theta, center = center)"
   ]
  },
  {
   "cell_type": "code",
   "execution_count": 78,
   "metadata": {},
   "outputs": [
    {
     "name": "stdout",
     "output_type": "stream",
     "text": [
      "(1, 1)\n",
      "(2, 1, 3)\n",
      "[[ 1.21974223 -0.9530223  -0.20847503]\n",
      " [ 1.21974223 -0.9530223  -0.20847503]]\n"
     ]
    }
   ],
   "source": [
    "theta = 0.\n",
    "#circle = parameterize_circle_unnorm(center,q1,q2,theta)\n",
    "\n",
    "circle_samples = parameterize_with_normal_vectors(np.array([p1,p1]), np.array([p2,p2]), theta, center = center)"
   ]
  },
  {
   "cell_type": "code",
   "execution_count": 79,
   "metadata": {},
   "outputs": [
    {
     "name": "stdout",
     "output_type": "stream",
     "text": [
      "(1, 1)\n",
      "(2, 1, 3)\n",
      "[[ 1.21974223 -0.9530223  -0.20847503]\n",
      " [ 1.21974223 -0.9530223  -0.20847503]]\n"
     ]
    }
   ],
   "source": [
    "theta = 0.\n",
    "#circle = parameterize_circle_unnorm(center,q1,q2,theta)\n",
    "\n",
    "circle_samples = parameterize_with_normal_vectors(np.array([p1,p1]), np.array([p2,p2]), theta, center = np.array([center,center]))"
   ]
  },
  {
   "cell_type": "code",
   "execution_count": 80,
   "metadata": {},
   "outputs": [
    {
     "name": "stdout",
     "output_type": "stream",
     "text": [
      "(1, 10)\n",
      "(2, 10, 3)\n",
      "[[[ 1.21974223 -0.9530223  -0.20847503]\n",
      "  [ 0.9908327  -0.68010708 -0.57513682]\n",
      "  [ 0.76621265 -0.0889622  -0.6726857 ]\n",
      "  [ 0.6509843   0.54380908 -0.45547746]\n",
      "  [ 0.69906427  0.92212606 -0.02514626]\n",
      "  [ 0.88795542  0.86897     0.41695115]\n",
      "  [ 1.12927347  0.40921322  0.66395249]\n",
      "  [ 1.31010303 -0.24201897  0.60028308]\n",
      "  [ 1.34583193 -0.7800078   0.25573454]\n",
      "  [ 1.21974223 -0.9530223  -0.20847503]]\n",
      "\n",
      " [[ 1.21974223 -0.9530223  -0.20847503]\n",
      "  [ 0.9908327  -0.68010708 -0.57513682]\n",
      "  [ 0.76621265 -0.0889622  -0.6726857 ]\n",
      "  [ 0.6509843   0.54380908 -0.45547746]\n",
      "  [ 0.69906427  0.92212606 -0.02514626]\n",
      "  [ 0.88795542  0.86897     0.41695115]\n",
      "  [ 1.12927347  0.40921322  0.66395249]\n",
      "  [ 1.31010303 -0.24201897  0.60028308]\n",
      "  [ 1.34583193 -0.7800078   0.25573454]\n",
      "  [ 1.21974223 -0.9530223  -0.20847503]]]\n"
     ]
    }
   ],
   "source": [
    "theta = np.linspace(0,2*np.pi,10)\n",
    "#circle = parameterize_circle_unnorm(center,q1,q2,theta)\n",
    "\n",
    "circle_samples = parameterize_with_normal_vectors(np.array([p1,p1]), np.array([p2,p2]), theta, center = np.array([center,center]))"
   ]
  },
  {
   "cell_type": "code",
   "execution_count": 81,
   "metadata": {},
   "outputs": [
    {
     "name": "stdout",
     "output_type": "stream",
     "text": [
      "(2, 10)\n",
      "(2, 10, 3)\n",
      "[[[ 1.21974223 -0.9530223  -0.20847503]\n",
      "  [ 0.9908327  -0.68010708 -0.57513682]\n",
      "  [ 0.76621265 -0.0889622  -0.6726857 ]\n",
      "  [ 0.6509843   0.54380908 -0.45547746]\n",
      "  [ 0.69906427  0.92212606 -0.02514626]\n",
      "  [ 0.88795542  0.86897     0.41695115]\n",
      "  [ 1.12927347  0.40921322  0.66395249]\n",
      "  [ 1.31010303 -0.24201897  0.60028308]\n",
      "  [ 1.34583193 -0.7800078   0.25573454]\n",
      "  [ 1.21974223 -0.9530223  -0.20847503]]\n",
      "\n",
      " [[ 1.21974223 -0.9530223  -0.20847503]\n",
      "  [ 0.9908327  -0.68010708 -0.57513682]\n",
      "  [ 0.76621265 -0.0889622  -0.6726857 ]\n",
      "  [ 0.6509843   0.54380908 -0.45547746]\n",
      "  [ 0.69906427  0.92212606 -0.02514626]\n",
      "  [ 0.88795542  0.86897     0.41695115]\n",
      "  [ 1.12927347  0.40921322  0.66395249]\n",
      "  [ 1.31010303 -0.24201897  0.60028308]\n",
      "  [ 1.34583193 -0.7800078   0.25573454]\n",
      "  [ 1.21974223 -0.9530223  -0.20847503]]]\n"
     ]
    }
   ],
   "source": [
    "theta = np.array([np.linspace(0,2*np.pi,10),np.linspace(0,2*np.pi,10)])\n",
    "#circle = parameterize_circle_unnorm(center,q1,q2,theta)\n",
    "\n",
    "circle_samples = parameterize_with_normal_vectors(np.array([p1,p1]), np.array([p2,p2]), theta, center = np.array([center,center]))"
   ]
  },
  {
   "cell_type": "code",
   "execution_count": 46,
   "metadata": {},
   "outputs": [
    {
     "data": {
      "text/plain": [
       "0.2197422345732798"
      ]
     },
     "execution_count": 46,
     "metadata": {},
     "output_type": "execute_result"
    }
   ],
   "source": [
    "q1[0]-center[0]"
   ]
  },
  {
   "cell_type": "code",
   "execution_count": 47,
   "metadata": {},
   "outputs": [
    {
     "data": {
      "text/plain": [
       "-0.3905214727359676"
      ]
     },
     "execution_count": 47,
     "metadata": {},
     "output_type": "execute_result"
    }
   ],
   "source": [
    "q2[0]-center[0]\n"
   ]
  },
  {
   "cell_type": "code",
   "execution_count": 16,
   "metadata": {},
   "outputs": [],
   "source": [
    "%matplotlib widget\n",
    "import healpy as hp\n",
    "import matplotlib.pyplot as plt\n",
    "from mpl_toolkits.mplot3d import Axes3D\n",
    "import numpy as np\n",
    "import utils"
   ]
  },
  {
   "cell_type": "code",
   "execution_count": 29,
   "metadata": {},
   "outputs": [
    {
     "data": {
      "text/plain": [
       "Text(0.5, 0.92, '3D Galactic Visualization')"
      ]
     },
     "execution_count": 29,
     "metadata": {},
     "output_type": "execute_result"
    },
    {
     "data": {
      "image/png": "[encoded data removed]",
      "text/plain": [
       "<Figure size 640x480 with 1 Axes>"
      ]
     },
     "metadata": {},
     "output_type": "display_data"
    }
   ],
   "source": [
    "# Plot points\n",
    "fig = plt.figure()\n",
    "ax = fig.add_subplot(111, projection='3d')\n",
    "\n",
    "ax.scatter([p1[0], p2[0]],[p1[1], p2[1]], [p1[2],p2[2]], color='r', s=100)\n",
    "ax.scatter(center[0],center[1],center[2], color='b')\n",
    "ax.scatter(circle_samples[:,0],circle_samples[:,1],circle_samples[:,2], color='g')\n",
    "# ax.scatter(points[:,0], points[:,1], points[:,2], color='r')\n",
    "\n",
    "# # Draw lines between points\n",
    "# for i in range(len(points)-1):\n",
    "#     ax.plot([points[i][0], points[i+1][0]], [points[i][1], points[i+1][1]], [points[i][2], points[i+1][2]], color='blue')\n",
    "\n",
    "ax.set_xlabel('X (kpc)')\n",
    "ax.set_ylabel('Y (kpc)')\n",
    "ax.set_zlabel('Z (kpc)')\n",
    "ax.set_title('3D Galactic Visualization')"
   ]
  },
  {
   "cell_type": "code",
   "execution_count": 28,
   "metadata": {},
   "outputs": [
    {
     "data": {
      "text/plain": [
       "<mpl_toolkits.mplot3d.art3d.Line3DCollection at 0x7e614d7975c0>"
      ]
     },
     "execution_count": 28,
     "metadata": {},
     "output_type": "execute_result"
    }
   ],
   "source": [
    "\n",
    "# Add spherical shell at radius 1\n",
    "u, v = np.mgrid[0:2*np.pi:20j, 0:np.pi:10j]\n",
    "x = np.cos(u)*np.sin(v)\n",
    "y = np.sin(u)*np.sin(v)\n",
    "z = np.cos(v)\n",
    "ax.plot_wireframe(x, y, z, color=\"k\", alpha=0.5)"
   ]
  },
  {
   "cell_type": "code",
   "execution_count": null,
   "metadata": {},
   "outputs": [],
   "source": []
  },
  {
   "cell_type": "code",
   "execution_count": null,
   "metadata": {},
   "outputs": [],
   "source": [
    "https://healpy.readthedocs.io/en/latest/generated/healpy.query_polygon.html"
   ]
  },
  {
   "cell_type": "code",
   "execution_count": null,
   "metadata": {},
   "outputs": [
    {
     "data": {
      "text/plain": [
       "array([0, 3, 4, 5, 8])"
      ]
     },
     "execution_count": 31,
     "metadata": {},
     "output_type": "execute_result"
    }
   ],
   "source": [
    "vertices = np.array([[1,0,0],[1,1.1,0],[1,0,1.1]])\n",
    "\n",
    "hp.query_polygon(nside=1,vertices=vertices, inclusive=True)"
   ]
  },
  {
   "cell_type": "code",
   "execution_count": null,
   "metadata": {},
   "outputs": [
    {
     "data": {
      "text/plain": [
       "array([[ 0.21974223, -0.9530223 , -0.20847503],\n",
       "       [-0.34584969,  0.92847349, -0.13536973]])"
      ]
     },
     "execution_count": 24,
     "metadata": {},
     "output_type": "execute_result"
    }
   ],
   "source": [
    "points"
   ]
  },
  {
   "cell_type": "code",
   "execution_count": null,
   "metadata": {},
   "outputs": [
    {
     "data": {
      "text/plain": [
       "array([0, 4, 5, 8])"
      ]
     },
     "execution_count": 42,
     "metadata": {},
     "output_type": "execute_result"
    }
   ],
   "source": [
    "vertices = np.array([[1,0,0],[1,1.1,0],[1,0,1E-10]])\n",
    "\n",
    "hp.query_polygon(nside=1,vertices=vertices, inclusive=True)"
   ]
  },
  {
   "cell_type": "code",
   "execution_count": null,
   "metadata": {},
   "outputs": [],
   "source": []
  }
 ],
 "metadata": {
  "kernelspec": {
   "display_name": "Python 3",
   "language": "python",
   "name": "python3"
  },
  "language_info": {
   "codemirror_mode": {
    "name": "ipython",
    "version": 3
   },
   "file_extension": ".py",
   "mimetype": "text/x-python",
   "name": "python",
   "nbconvert_exporter": "python",
   "pygments_lexer": "ipython3",
   "version": "3.12.1"
  }
 },
 "nbformat": 4,
 "nbformat_minor": 2
}

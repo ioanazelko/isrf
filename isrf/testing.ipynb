{
 "cells": [
  {
   "cell_type": "code",
   "execution_count": 2,
   "metadata": {},
   "outputs": [],
   "source": [
    "#%matplotlib widget\n",
    "\n",
    "import healpy as hp\n",
    "import numpy as np\n",
    "import matplotlib.pyplot as plt\n",
    "\n",
    "import circle\n",
    "import plot_utils\n",
    "import utils\n",
    "\n",
    "\n"
   ]
  },
  {
   "cell_type": "markdown",
   "metadata": {},
   "source": [
    "### Functions for linear parameterization\n"
   ]
  },
  {
   "cell_type": "code",
   "execution_count": null,
   "metadata": {},
   "outputs": [
    {
     "data": {
      "text/plain": [
       "(1.5, 0.5)"
      ]
     },
     "execution_count": 2,
     "metadata": {},
     "output_type": "execute_result"
    }
   ],
   "source": [
    "#### check that the ray is not in the plane defined by any of the healpix edges\n",
    "def direction_star_to_ISRF_point(isrf_pos, star_pos):\n",
    "    \"\"\"\n",
    "    Calculate the direction from the star to the ISRF point.\n",
    "    \"\"\"\n",
    "    direction = isrf_pos - star_pos\n",
    "    direction_abs = np.dot(direction, direction) ** 0.5\n",
    "    star_dot_direction = np.dot(star_pos, direction)\n",
    "    return direction, direction_abs, star_dot_direction\n",
    "\n",
    "def ray_linear_parameterization(star_pos,direction, t):\n",
    "    \"\"\" This function returns the position of a point on the ray defined by star_pos and direction at parameter t.\n",
    "    star_pos is the position of the star, direction is the direction of the ray, and t is the parameter.\n",
    "    The function returns the position of the point on the ray at parameter t.\n",
    "    The ray is defined as the set of points {star_pos + t*direction | t in R}.\n",
    "    star_pos is a 3D cartesian vector, direction is a 3D vector, and t is a scalar.\n",
    "    \n",
    "    \"\"\"\n",
    "    return star_pos + t*direction\n",
    "\n",
    "\n",
    "def p(star_pos,direction, t):\n",
    "    \"\"\"    This function returns the distance from the star to the point on the ray defined by star_pos and direction at parameter t.\n",
    "    star_pos is the position of the star, direction is the direction of the ray, and t is the parameter.\n",
    "    The function returns the distance from the star to the point on the ray at parameter t.\n",
    "    The ray is defined as the set of points {star_pos + t*direction | t in R}.\n",
    "    star_pos is a 3D cartesian vector, direction is a 3D vector, and t is a scalar.\n",
    "    The distance is defined as the euclidean distance from the star to the point on the ray at parameter t.\n",
    "    The function returns a scalar.\n",
    "    \"\"\"\n",
    "    x0,y0,z0 = star_pos\n",
    "    a,b,c = direction\n",
    "    p = ((x0 + t*a)**2 + (y0 + t*b)**2 + (z0 + t*c)**2)**0.5  \n",
    "    return p\n",
    "\n",
    "def find_crossing_positions(star_r,star_dot_direction,direction_abs,d):\n",
    "    \"\"\" \n",
    "    \n",
    "    This function calculates the crossing positions of a ray defined by star_r and star_dot_direction\n",
    "    with a sphere of radius d. It returns the two possible intersection parameters t1 and t2.\n",
    "    \"\"\"\n",
    "    a = direction_abs**2\n",
    "    b = 2*star_dot_direction\n",
    "    c = star_r**2-d**2\n",
    "    t1 = (-b + (b**2 - 4*a*c)**0.5)/(2*a)\n",
    "    t2 = (-b - (b**2 - 4*a*c)**0.5)/(2*a)\n",
    "    return t1,t2\n",
    "\n",
    "\n",
    "find_crossing_positions(star_r,star_dot_direction,direction_abs,0.5)"
   ]
  },
  {
   "cell_type": "markdown",
   "metadata": {},
   "source": [
    "### Functions for the circles and arches implementation"
   ]
  },
  {
   "cell_type": "code",
   "execution_count": 6,
   "metadata": {},
   "outputs": [],
   "source": [
    "\n",
    "# test_example.test_circle_implementation()\n",
    "# test_example.test_arches_implementation()\n"
   ]
  },
  {
   "cell_type": "code",
   "execution_count": null,
   "metadata": {},
   "outputs": [],
   "source": [
    "https://healpy.readthedocs.io/en/latest/generated/healpy.query_polygon.html"
   ]
  },
  {
   "cell_type": "code",
   "execution_count": null,
   "metadata": {},
   "outputs": [],
   "source": [
    "vertices = np.array([[1,0,0],[1,1.1,0],[1,0,1.1]])\n",
    "\n",
    "hp.query_polygon(nside=1,vertices=vertices, inclusive=True)"
   ]
  },
  {
   "cell_type": "code",
   "execution_count": null,
   "metadata": {},
   "outputs": [],
   "source": [
    "\n",
    "N_side = 16  # Choose your resolution\n",
    "pixel_id = 42  # Example pixel index\n",
    "\n",
    "# Get the boundaries of the pixel\n",
    "boundaries = hp.boundaries(N_side, pixel_id, step=1)\n",
    "theta, phi = hp.vec2ang(np.transpose(boundaries))\n",
    "\n",
    "# Convert to degrees for plotting\n",
    "theta_deg = np.degrees(theta)\n",
    "phi_deg = np.degrees(phi)\n",
    "\n",
    "# Plot\n",
    "# plt.figure()\n",
    "hp.visufunc.projscatter(theta, phi, lonlat=False, c='red')  # Plot edges\n",
    "hp.visufunc.projtext(np.mean(theta), np.mean(phi), str(pixel_id), lonlat=False, color='blue')  # Center\n",
    "plt.show()\n",
    "reddening_distance_slices = np.array([0.0, 0.5, 1.0, 1.5, 2.0, 2.5, 3.0, 3.5, 4.0, 4.5, 5.0])\n",
    "\n",
    "isrf_point_l = 0\n",
    "isrf_point_b = 0\n",
    "isrf_point_r = 0\n",
    "\n",
    "star_l = 1\n",
    "star_b = 1\n",
    "star_r = 1\n",
    "\n",
    "\n",
    "\n",
    "star_pos = utils.galactic_to_cartesian(star_l,star_b,star_r)\n",
    "isrf_pos = utils.galactic_to_cartesian(isrf_point_l,isrf_point_b,isrf_point_r)\n",
    "\n",
    "# Calculate the direction from the star to the ISRF point\n",
    "direction, direction_abs, star_dot_direction = direction_star_to_ISRF_point(isrf_pos, star_pos)\n",
    "\n",
    "\n",
    "        \n"
   ]
  },
  {
   "cell_type": "code",
   "execution_count": null,
   "metadata": {},
   "outputs": [],
   "source": []
  },
  {
   "cell_type": "code",
   "execution_count": null,
   "metadata": {},
   "outputs": [],
   "source": []
  },
  {
   "cell_type": "code",
   "execution_count": null,
   "metadata": {},
   "outputs": [],
   "source": []
  },
  {
   "cell_type": "code",
   "execution_count": null,
   "metadata": {},
   "outputs": [],
   "source": []
  },
  {
   "cell_type": "code",
   "execution_count": null,
   "metadata": {},
   "outputs": [],
   "source": []
  }
 ],
 "metadata": {
  "kernelspec": {
   "display_name": "cc",
   "language": "python",
   "name": "python3"
  },
  "language_info": {
   "codemirror_mode": {
    "name": "ipython",
    "version": 3
   },
   "file_extension": ".py",
   "mimetype": "text/x-python",
   "name": "python",
   "nbconvert_exporter": "python",
   "pygments_lexer": "ipython3",
   "version": "3.12.1"
  }
 },
 "nbformat": 4,
 "nbformat_minor": 2
}
